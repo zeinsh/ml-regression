{
 "cells": [
  {
   "cell_type": "markdown",
   "metadata": {},
   "source": [
    "# Polynomial Regression model \n",
    "\n",
    "Gradient Descent"
   ]
  },
  {
   "cell_type": "code",
   "execution_count": 1,
   "metadata": {
    "collapsed": true
   },
   "outputs": [],
   "source": [
    "import pandas as pd\n",
    "import numpy as np\n",
    "import matplotlib.pyplot as plt\n",
    "%matplotlib notebook  \n",
    "pd.options.display.max_rows = 10\n",
    "pd.options.display.max_columns=100"
   ]
  },
  {
   "cell_type": "code",
   "execution_count": 2,
   "metadata": {
    "collapsed": true
   },
   "outputs": [],
   "source": [
    "train=pd.read_csv('../data/kc_house_train_data.csv')\n",
    "test=pd.read_csv('../data/kc_house_test_data.csv')"
   ]
  },
  {
   "cell_type": "code",
   "execution_count": 3,
   "metadata": {
    "collapsed": false
   },
   "outputs": [],
   "source": [
    "train['bedrooms_squared']=np.power(train['bedrooms'],2)\n",
    "train['bed_bath_rooms']=np.multiply(train['bedrooms'],train['bathrooms'])\n",
    "train['log_sqft_living']=np.log(train.sqft_living)\n",
    "train['lat_plus_long']=train.lat+train.long"
   ]
  },
  {
   "cell_type": "code",
   "execution_count": 4,
   "metadata": {
    "collapsed": true
   },
   "outputs": [],
   "source": [
    "test['bedrooms_squared']=np.power(test['bedrooms'],2)\n",
    "test['bed_bath_rooms']=np.multiply(test['bedrooms'],test['bathrooms'])\n",
    "test['log_sqft_living']=np.log(test.sqft_living)\n",
    "test['lat_plus_long']=test.lat+test.long"
   ]
  },
  {
   "cell_type": "markdown",
   "metadata": {},
   "source": [
    "## Exploring data"
   ]
  },
  {
   "cell_type": "code",
   "execution_count": 5,
   "metadata": {
    "collapsed": false
   },
   "outputs": [
    {
     "data": {
      "text/html": [
       "<div>\n",
       "<table border=\"1\" class=\"dataframe\">\n",
       "  <thead>\n",
       "    <tr style=\"text-align: right;\">\n",
       "      <th></th>\n",
       "      <th>id</th>\n",
       "      <th>date</th>\n",
       "      <th>price</th>\n",
       "      <th>bedrooms</th>\n",
       "      <th>bathrooms</th>\n",
       "      <th>sqft_living</th>\n",
       "      <th>sqft_lot</th>\n",
       "      <th>floors</th>\n",
       "      <th>waterfront</th>\n",
       "      <th>view</th>\n",
       "      <th>condition</th>\n",
       "      <th>grade</th>\n",
       "      <th>sqft_above</th>\n",
       "      <th>sqft_basement</th>\n",
       "      <th>yr_built</th>\n",
       "      <th>yr_renovated</th>\n",
       "      <th>zipcode</th>\n",
       "      <th>lat</th>\n",
       "      <th>long</th>\n",
       "      <th>sqft_living15</th>\n",
       "      <th>sqft_lot15</th>\n",
       "      <th>bedrooms_squared</th>\n",
       "      <th>bed_bath_rooms</th>\n",
       "      <th>log_sqft_living</th>\n",
       "      <th>lat_plus_long</th>\n",
       "    </tr>\n",
       "  </thead>\n",
       "  <tbody>\n",
       "    <tr>\n",
       "      <th>0</th>\n",
       "      <td>114101516</td>\n",
       "      <td>20140528T000000</td>\n",
       "      <td>310000.0</td>\n",
       "      <td>3</td>\n",
       "      <td>1.00</td>\n",
       "      <td>1430</td>\n",
       "      <td>19901</td>\n",
       "      <td>1.5</td>\n",
       "      <td>0</td>\n",
       "      <td>0</td>\n",
       "      <td>4</td>\n",
       "      <td>7</td>\n",
       "      <td>1430</td>\n",
       "      <td>0</td>\n",
       "      <td>1927</td>\n",
       "      <td>0</td>\n",
       "      <td>98028</td>\n",
       "      <td>47.7558</td>\n",
       "      <td>-122.229</td>\n",
       "      <td>1780</td>\n",
       "      <td>12697</td>\n",
       "      <td>9</td>\n",
       "      <td>3.00</td>\n",
       "      <td>7.265430</td>\n",
       "      <td>-74.4732</td>\n",
       "    </tr>\n",
       "    <tr>\n",
       "      <th>1</th>\n",
       "      <td>9297300055</td>\n",
       "      <td>20150124T000000</td>\n",
       "      <td>650000.0</td>\n",
       "      <td>4</td>\n",
       "      <td>3.00</td>\n",
       "      <td>2950</td>\n",
       "      <td>5000</td>\n",
       "      <td>2.0</td>\n",
       "      <td>0</td>\n",
       "      <td>3</td>\n",
       "      <td>3</td>\n",
       "      <td>9</td>\n",
       "      <td>1980</td>\n",
       "      <td>970</td>\n",
       "      <td>1979</td>\n",
       "      <td>0</td>\n",
       "      <td>98126</td>\n",
       "      <td>47.5714</td>\n",
       "      <td>-122.375</td>\n",
       "      <td>2140</td>\n",
       "      <td>4000</td>\n",
       "      <td>16</td>\n",
       "      <td>12.00</td>\n",
       "      <td>7.989560</td>\n",
       "      <td>-74.8036</td>\n",
       "    </tr>\n",
       "    <tr>\n",
       "      <th>2</th>\n",
       "      <td>1202000200</td>\n",
       "      <td>20141103T000000</td>\n",
       "      <td>233000.0</td>\n",
       "      <td>3</td>\n",
       "      <td>2.00</td>\n",
       "      <td>1710</td>\n",
       "      <td>4697</td>\n",
       "      <td>1.5</td>\n",
       "      <td>0</td>\n",
       "      <td>0</td>\n",
       "      <td>5</td>\n",
       "      <td>6</td>\n",
       "      <td>1710</td>\n",
       "      <td>0</td>\n",
       "      <td>1941</td>\n",
       "      <td>0</td>\n",
       "      <td>98002</td>\n",
       "      <td>47.3048</td>\n",
       "      <td>-122.218</td>\n",
       "      <td>1030</td>\n",
       "      <td>4705</td>\n",
       "      <td>9</td>\n",
       "      <td>6.00</td>\n",
       "      <td>7.444249</td>\n",
       "      <td>-74.9132</td>\n",
       "    </tr>\n",
       "    <tr>\n",
       "      <th>3</th>\n",
       "      <td>8562750320</td>\n",
       "      <td>20141110T000000</td>\n",
       "      <td>580500.0</td>\n",
       "      <td>3</td>\n",
       "      <td>2.50</td>\n",
       "      <td>2320</td>\n",
       "      <td>3980</td>\n",
       "      <td>2.0</td>\n",
       "      <td>0</td>\n",
       "      <td>0</td>\n",
       "      <td>3</td>\n",
       "      <td>8</td>\n",
       "      <td>2320</td>\n",
       "      <td>0</td>\n",
       "      <td>2003</td>\n",
       "      <td>0</td>\n",
       "      <td>98027</td>\n",
       "      <td>47.5391</td>\n",
       "      <td>-122.070</td>\n",
       "      <td>2580</td>\n",
       "      <td>3980</td>\n",
       "      <td>9</td>\n",
       "      <td>7.50</td>\n",
       "      <td>7.749322</td>\n",
       "      <td>-74.5309</td>\n",
       "    </tr>\n",
       "    <tr>\n",
       "      <th>4</th>\n",
       "      <td>7589200193</td>\n",
       "      <td>20141110T000000</td>\n",
       "      <td>535000.0</td>\n",
       "      <td>3</td>\n",
       "      <td>1.00</td>\n",
       "      <td>1090</td>\n",
       "      <td>3000</td>\n",
       "      <td>1.5</td>\n",
       "      <td>0</td>\n",
       "      <td>0</td>\n",
       "      <td>4</td>\n",
       "      <td>8</td>\n",
       "      <td>1090</td>\n",
       "      <td>0</td>\n",
       "      <td>1929</td>\n",
       "      <td>0</td>\n",
       "      <td>98117</td>\n",
       "      <td>47.6889</td>\n",
       "      <td>-122.375</td>\n",
       "      <td>1570</td>\n",
       "      <td>5080</td>\n",
       "      <td>9</td>\n",
       "      <td>3.00</td>\n",
       "      <td>6.993933</td>\n",
       "      <td>-74.6861</td>\n",
       "    </tr>\n",
       "    <tr>\n",
       "      <th>...</th>\n",
       "      <td>...</td>\n",
       "      <td>...</td>\n",
       "      <td>...</td>\n",
       "      <td>...</td>\n",
       "      <td>...</td>\n",
       "      <td>...</td>\n",
       "      <td>...</td>\n",
       "      <td>...</td>\n",
       "      <td>...</td>\n",
       "      <td>...</td>\n",
       "      <td>...</td>\n",
       "      <td>...</td>\n",
       "      <td>...</td>\n",
       "      <td>...</td>\n",
       "      <td>...</td>\n",
       "      <td>...</td>\n",
       "      <td>...</td>\n",
       "      <td>...</td>\n",
       "      <td>...</td>\n",
       "      <td>...</td>\n",
       "      <td>...</td>\n",
       "      <td>...</td>\n",
       "      <td>...</td>\n",
       "      <td>...</td>\n",
       "      <td>...</td>\n",
       "    </tr>\n",
       "    <tr>\n",
       "      <th>4224</th>\n",
       "      <td>8672200110</td>\n",
       "      <td>20150317T000000</td>\n",
       "      <td>1088000.0</td>\n",
       "      <td>5</td>\n",
       "      <td>3.75</td>\n",
       "      <td>4170</td>\n",
       "      <td>8142</td>\n",
       "      <td>2.0</td>\n",
       "      <td>0</td>\n",
       "      <td>2</td>\n",
       "      <td>3</td>\n",
       "      <td>10</td>\n",
       "      <td>4170</td>\n",
       "      <td>0</td>\n",
       "      <td>2006</td>\n",
       "      <td>0</td>\n",
       "      <td>98056</td>\n",
       "      <td>47.5354</td>\n",
       "      <td>-122.181</td>\n",
       "      <td>3030</td>\n",
       "      <td>7980</td>\n",
       "      <td>25</td>\n",
       "      <td>18.75</td>\n",
       "      <td>8.335671</td>\n",
       "      <td>-74.6456</td>\n",
       "    </tr>\n",
       "    <tr>\n",
       "      <th>4225</th>\n",
       "      <td>5087900040</td>\n",
       "      <td>20141017T000000</td>\n",
       "      <td>350000.0</td>\n",
       "      <td>4</td>\n",
       "      <td>2.75</td>\n",
       "      <td>2500</td>\n",
       "      <td>5995</td>\n",
       "      <td>2.0</td>\n",
       "      <td>0</td>\n",
       "      <td>0</td>\n",
       "      <td>3</td>\n",
       "      <td>8</td>\n",
       "      <td>2500</td>\n",
       "      <td>0</td>\n",
       "      <td>2008</td>\n",
       "      <td>0</td>\n",
       "      <td>98042</td>\n",
       "      <td>47.3749</td>\n",
       "      <td>-122.107</td>\n",
       "      <td>2530</td>\n",
       "      <td>5988</td>\n",
       "      <td>16</td>\n",
       "      <td>11.00</td>\n",
       "      <td>7.824046</td>\n",
       "      <td>-74.7321</td>\n",
       "    </tr>\n",
       "    <tr>\n",
       "      <th>4226</th>\n",
       "      <td>3448900210</td>\n",
       "      <td>20141014T000000</td>\n",
       "      <td>610685.0</td>\n",
       "      <td>4</td>\n",
       "      <td>2.50</td>\n",
       "      <td>2520</td>\n",
       "      <td>6023</td>\n",
       "      <td>2.0</td>\n",
       "      <td>0</td>\n",
       "      <td>0</td>\n",
       "      <td>3</td>\n",
       "      <td>9</td>\n",
       "      <td>2520</td>\n",
       "      <td>0</td>\n",
       "      <td>2014</td>\n",
       "      <td>0</td>\n",
       "      <td>98056</td>\n",
       "      <td>47.5137</td>\n",
       "      <td>-122.167</td>\n",
       "      <td>2520</td>\n",
       "      <td>6023</td>\n",
       "      <td>16</td>\n",
       "      <td>10.00</td>\n",
       "      <td>7.832014</td>\n",
       "      <td>-74.6533</td>\n",
       "    </tr>\n",
       "    <tr>\n",
       "      <th>4227</th>\n",
       "      <td>6600060120</td>\n",
       "      <td>20150223T000000</td>\n",
       "      <td>400000.0</td>\n",
       "      <td>4</td>\n",
       "      <td>2.50</td>\n",
       "      <td>2310</td>\n",
       "      <td>5813</td>\n",
       "      <td>2.0</td>\n",
       "      <td>0</td>\n",
       "      <td>0</td>\n",
       "      <td>3</td>\n",
       "      <td>8</td>\n",
       "      <td>2310</td>\n",
       "      <td>0</td>\n",
       "      <td>2014</td>\n",
       "      <td>0</td>\n",
       "      <td>98146</td>\n",
       "      <td>47.5107</td>\n",
       "      <td>-122.362</td>\n",
       "      <td>1830</td>\n",
       "      <td>7200</td>\n",
       "      <td>16</td>\n",
       "      <td>10.00</td>\n",
       "      <td>7.745003</td>\n",
       "      <td>-74.8513</td>\n",
       "    </tr>\n",
       "    <tr>\n",
       "      <th>4228</th>\n",
       "      <td>1523300141</td>\n",
       "      <td>20140623T000000</td>\n",
       "      <td>402101.0</td>\n",
       "      <td>2</td>\n",
       "      <td>0.75</td>\n",
       "      <td>1020</td>\n",
       "      <td>1350</td>\n",
       "      <td>2.0</td>\n",
       "      <td>0</td>\n",
       "      <td>0</td>\n",
       "      <td>3</td>\n",
       "      <td>7</td>\n",
       "      <td>1020</td>\n",
       "      <td>0</td>\n",
       "      <td>2009</td>\n",
       "      <td>0</td>\n",
       "      <td>98144</td>\n",
       "      <td>47.5944</td>\n",
       "      <td>-122.299</td>\n",
       "      <td>1020</td>\n",
       "      <td>2007</td>\n",
       "      <td>4</td>\n",
       "      <td>1.50</td>\n",
       "      <td>6.927558</td>\n",
       "      <td>-74.7046</td>\n",
       "    </tr>\n",
       "  </tbody>\n",
       "</table>\n",
       "<p>4229 rows × 25 columns</p>\n",
       "</div>"
      ],
      "text/plain": [
       "              id             date      price  bedrooms  bathrooms  \\\n",
       "0      114101516  20140528T000000   310000.0         3       1.00   \n",
       "1     9297300055  20150124T000000   650000.0         4       3.00   \n",
       "2     1202000200  20141103T000000   233000.0         3       2.00   \n",
       "3     8562750320  20141110T000000   580500.0         3       2.50   \n",
       "4     7589200193  20141110T000000   535000.0         3       1.00   \n",
       "...          ...              ...        ...       ...        ...   \n",
       "4224  8672200110  20150317T000000  1088000.0         5       3.75   \n",
       "4225  5087900040  20141017T000000   350000.0         4       2.75   \n",
       "4226  3448900210  20141014T000000   610685.0         4       2.50   \n",
       "4227  6600060120  20150223T000000   400000.0         4       2.50   \n",
       "4228  1523300141  20140623T000000   402101.0         2       0.75   \n",
       "\n",
       "      sqft_living  sqft_lot  floors  waterfront  view  condition  grade  \\\n",
       "0            1430     19901     1.5           0     0          4      7   \n",
       "1            2950      5000     2.0           0     3          3      9   \n",
       "2            1710      4697     1.5           0     0          5      6   \n",
       "3            2320      3980     2.0           0     0          3      8   \n",
       "4            1090      3000     1.5           0     0          4      8   \n",
       "...           ...       ...     ...         ...   ...        ...    ...   \n",
       "4224         4170      8142     2.0           0     2          3     10   \n",
       "4225         2500      5995     2.0           0     0          3      8   \n",
       "4226         2520      6023     2.0           0     0          3      9   \n",
       "4227         2310      5813     2.0           0     0          3      8   \n",
       "4228         1020      1350     2.0           0     0          3      7   \n",
       "\n",
       "      sqft_above  sqft_basement  yr_built  yr_renovated  zipcode      lat  \\\n",
       "0           1430              0      1927             0    98028  47.7558   \n",
       "1           1980            970      1979             0    98126  47.5714   \n",
       "2           1710              0      1941             0    98002  47.3048   \n",
       "3           2320              0      2003             0    98027  47.5391   \n",
       "4           1090              0      1929             0    98117  47.6889   \n",
       "...          ...            ...       ...           ...      ...      ...   \n",
       "4224        4170              0      2006             0    98056  47.5354   \n",
       "4225        2500              0      2008             0    98042  47.3749   \n",
       "4226        2520              0      2014             0    98056  47.5137   \n",
       "4227        2310              0      2014             0    98146  47.5107   \n",
       "4228        1020              0      2009             0    98144  47.5944   \n",
       "\n",
       "         long  sqft_living15  sqft_lot15  bedrooms_squared  bed_bath_rooms  \\\n",
       "0    -122.229           1780       12697                 9            3.00   \n",
       "1    -122.375           2140        4000                16           12.00   \n",
       "2    -122.218           1030        4705                 9            6.00   \n",
       "3    -122.070           2580        3980                 9            7.50   \n",
       "4    -122.375           1570        5080                 9            3.00   \n",
       "...       ...            ...         ...               ...             ...   \n",
       "4224 -122.181           3030        7980                25           18.75   \n",
       "4225 -122.107           2530        5988                16           11.00   \n",
       "4226 -122.167           2520        6023                16           10.00   \n",
       "4227 -122.362           1830        7200                16           10.00   \n",
       "4228 -122.299           1020        2007                 4            1.50   \n",
       "\n",
       "      log_sqft_living  lat_plus_long  \n",
       "0            7.265430       -74.4732  \n",
       "1            7.989560       -74.8036  \n",
       "2            7.444249       -74.9132  \n",
       "3            7.749322       -74.5309  \n",
       "4            6.993933       -74.6861  \n",
       "...               ...            ...  \n",
       "4224         8.335671       -74.6456  \n",
       "4225         7.824046       -74.7321  \n",
       "4226         7.832014       -74.6533  \n",
       "4227         7.745003       -74.8513  \n",
       "4228         6.927558       -74.7046  \n",
       "\n",
       "[4229 rows x 25 columns]"
      ]
     },
     "execution_count": 5,
     "metadata": {},
     "output_type": "execute_result"
    }
   ],
   "source": [
    "test"
   ]
  },
  {
   "cell_type": "code",
   "execution_count": 6,
   "metadata": {
    "collapsed": false
   },
   "outputs": [
    {
     "name": "stdout",
     "output_type": "stream",
     "text": [
      "<class 'pandas.core.frame.DataFrame'>\n",
      "RangeIndex: 17384 entries, 0 to 17383\n",
      "Data columns (total 25 columns):\n",
      "id                  17384 non-null int64\n",
      "date                17384 non-null object\n",
      "price               17384 non-null float64\n",
      "bedrooms            17384 non-null int64\n",
      "bathrooms           17384 non-null float64\n",
      "sqft_living         17384 non-null int64\n",
      "sqft_lot            17384 non-null int64\n",
      "floors              17384 non-null float64\n",
      "waterfront          17384 non-null int64\n",
      "view                17384 non-null int64\n",
      "condition           17384 non-null int64\n",
      "grade               17384 non-null int64\n",
      "sqft_above          17384 non-null int64\n",
      "sqft_basement       17384 non-null int64\n",
      "yr_built            17384 non-null int64\n",
      "yr_renovated        17384 non-null int64\n",
      "zipcode             17384 non-null int64\n",
      "lat                 17384 non-null float64\n",
      "long                17384 non-null float64\n",
      "sqft_living15       17384 non-null int64\n",
      "sqft_lot15          17384 non-null int64\n",
      "bedrooms_squared    17384 non-null int64\n",
      "bed_bath_rooms      17384 non-null float64\n",
      "log_sqft_living     17384 non-null float64\n",
      "lat_plus_long       17384 non-null float64\n",
      "dtypes: float64(8), int64(16), object(1)\n",
      "memory usage: 3.3+ MB\n"
     ]
    }
   ],
   "source": [
    "train.info()"
   ]
  },
  {
   "cell_type": "code",
   "execution_count": 7,
   "metadata": {
    "collapsed": false
   },
   "outputs": [
    {
     "data": {
      "text/html": [
       "<div>\n",
       "<table border=\"1\" class=\"dataframe\">\n",
       "  <thead>\n",
       "    <tr style=\"text-align: right;\">\n",
       "      <th></th>\n",
       "      <th>id</th>\n",
       "      <th>price</th>\n",
       "      <th>bedrooms</th>\n",
       "      <th>bathrooms</th>\n",
       "      <th>sqft_living</th>\n",
       "      <th>sqft_lot</th>\n",
       "      <th>floors</th>\n",
       "      <th>waterfront</th>\n",
       "      <th>view</th>\n",
       "      <th>condition</th>\n",
       "      <th>grade</th>\n",
       "      <th>sqft_above</th>\n",
       "      <th>sqft_basement</th>\n",
       "      <th>yr_built</th>\n",
       "      <th>yr_renovated</th>\n",
       "      <th>zipcode</th>\n",
       "      <th>lat</th>\n",
       "      <th>long</th>\n",
       "      <th>sqft_living15</th>\n",
       "      <th>sqft_lot15</th>\n",
       "      <th>bedrooms_squared</th>\n",
       "      <th>bed_bath_rooms</th>\n",
       "      <th>log_sqft_living</th>\n",
       "      <th>lat_plus_long</th>\n",
       "    </tr>\n",
       "  </thead>\n",
       "  <tbody>\n",
       "    <tr>\n",
       "      <th>count</th>\n",
       "      <td>4.229000e+03</td>\n",
       "      <td>4.229000e+03</td>\n",
       "      <td>4229.000000</td>\n",
       "      <td>4229.000000</td>\n",
       "      <td>4229.000000</td>\n",
       "      <td>4.229000e+03</td>\n",
       "      <td>4229.000000</td>\n",
       "      <td>4229.000000</td>\n",
       "      <td>4229.000000</td>\n",
       "      <td>4229.000000</td>\n",
       "      <td>4229.000000</td>\n",
       "      <td>4229.000000</td>\n",
       "      <td>4229.000000</td>\n",
       "      <td>4229.000000</td>\n",
       "      <td>4229.000000</td>\n",
       "      <td>4229.000000</td>\n",
       "      <td>4229.000000</td>\n",
       "      <td>4229.000000</td>\n",
       "      <td>4229.000000</td>\n",
       "      <td>4229.000000</td>\n",
       "      <td>4229.000000</td>\n",
       "      <td>4229.000000</td>\n",
       "      <td>4229.000000</td>\n",
       "      <td>4229.000000</td>\n",
       "    </tr>\n",
       "    <tr>\n",
       "      <th>mean</th>\n",
       "      <td>4.604771e+09</td>\n",
       "      <td>5.430540e+05</td>\n",
       "      <td>3.376921</td>\n",
       "      <td>2.113561</td>\n",
       "      <td>2079.366280</td>\n",
       "      <td>1.516886e+04</td>\n",
       "      <td>1.494561</td>\n",
       "      <td>0.007094</td>\n",
       "      <td>0.227004</td>\n",
       "      <td>3.403878</td>\n",
       "      <td>7.664460</td>\n",
       "      <td>1790.635848</td>\n",
       "      <td>288.730433</td>\n",
       "      <td>1970.398439</td>\n",
       "      <td>89.722629</td>\n",
       "      <td>98077.951762</td>\n",
       "      <td>47.563092</td>\n",
       "      <td>-122.216426</td>\n",
       "      <td>1988.844171</td>\n",
       "      <td>12735.877749</td>\n",
       "      <td>12.446678</td>\n",
       "      <td>7.503902</td>\n",
       "      <td>7.550275</td>\n",
       "      <td>-74.653334</td>\n",
       "    </tr>\n",
       "    <tr>\n",
       "      <th>std</th>\n",
       "      <td>2.894017e+09</td>\n",
       "      <td>3.564212e+05</td>\n",
       "      <td>1.021434</td>\n",
       "      <td>0.763560</td>\n",
       "      <td>905.317454</td>\n",
       "      <td>4.126563e+04</td>\n",
       "      <td>0.542292</td>\n",
       "      <td>0.083936</td>\n",
       "      <td>0.759375</td>\n",
       "      <td>0.654686</td>\n",
       "      <td>1.198476</td>\n",
       "      <td>832.215530</td>\n",
       "      <td>435.016314</td>\n",
       "      <td>29.552143</td>\n",
       "      <td>413.736867</td>\n",
       "      <td>53.426623</td>\n",
       "      <td>0.137965</td>\n",
       "      <td>0.140497</td>\n",
       "      <td>680.837632</td>\n",
       "      <td>27829.200218</td>\n",
       "      <td>17.868973</td>\n",
       "      <td>4.227032</td>\n",
       "      <td>0.426554</td>\n",
       "      <td>0.182162</td>\n",
       "    </tr>\n",
       "    <tr>\n",
       "      <th>min</th>\n",
       "      <td>1.000102e+06</td>\n",
       "      <td>8.500000e+04</td>\n",
       "      <td>0.000000</td>\n",
       "      <td>0.000000</td>\n",
       "      <td>370.000000</td>\n",
       "      <td>6.000000e+02</td>\n",
       "      <td>1.000000</td>\n",
       "      <td>0.000000</td>\n",
       "      <td>0.000000</td>\n",
       "      <td>1.000000</td>\n",
       "      <td>4.000000</td>\n",
       "      <td>370.000000</td>\n",
       "      <td>0.000000</td>\n",
       "      <td>1900.000000</td>\n",
       "      <td>0.000000</td>\n",
       "      <td>98001.000000</td>\n",
       "      <td>47.155900</td>\n",
       "      <td>-122.514000</td>\n",
       "      <td>700.000000</td>\n",
       "      <td>660.000000</td>\n",
       "      <td>0.000000</td>\n",
       "      <td>0.000000</td>\n",
       "      <td>5.913503</td>\n",
       "      <td>-75.177200</td>\n",
       "    </tr>\n",
       "    <tr>\n",
       "      <th>25%</th>\n",
       "      <td>2.110900e+09</td>\n",
       "      <td>3.250000e+05</td>\n",
       "      <td>3.000000</td>\n",
       "      <td>1.750000</td>\n",
       "      <td>1430.000000</td>\n",
       "      <td>5.027000e+03</td>\n",
       "      <td>1.000000</td>\n",
       "      <td>0.000000</td>\n",
       "      <td>0.000000</td>\n",
       "      <td>3.000000</td>\n",
       "      <td>7.000000</td>\n",
       "      <td>1180.000000</td>\n",
       "      <td>0.000000</td>\n",
       "      <td>1951.000000</td>\n",
       "      <td>0.000000</td>\n",
       "      <td>98032.000000</td>\n",
       "      <td>47.476600</td>\n",
       "      <td>-122.330000</td>\n",
       "      <td>1490.000000</td>\n",
       "      <td>5105.000000</td>\n",
       "      <td>9.000000</td>\n",
       "      <td>4.500000</td>\n",
       "      <td>7.265430</td>\n",
       "      <td>-74.767200</td>\n",
       "    </tr>\n",
       "    <tr>\n",
       "      <th>50%</th>\n",
       "      <td>4.019301e+09</td>\n",
       "      <td>4.530000e+05</td>\n",
       "      <td>3.000000</td>\n",
       "      <td>2.250000</td>\n",
       "      <td>1920.000000</td>\n",
       "      <td>7.633000e+03</td>\n",
       "      <td>1.500000</td>\n",
       "      <td>0.000000</td>\n",
       "      <td>0.000000</td>\n",
       "      <td>3.000000</td>\n",
       "      <td>7.000000</td>\n",
       "      <td>1570.000000</td>\n",
       "      <td>0.000000</td>\n",
       "      <td>1974.000000</td>\n",
       "      <td>0.000000</td>\n",
       "      <td>98065.000000</td>\n",
       "      <td>47.573400</td>\n",
       "      <td>-122.239000</td>\n",
       "      <td>1840.000000</td>\n",
       "      <td>7611.000000</td>\n",
       "      <td>9.000000</td>\n",
       "      <td>7.000000</td>\n",
       "      <td>7.560080</td>\n",
       "      <td>-74.667100</td>\n",
       "    </tr>\n",
       "    <tr>\n",
       "      <th>75%</th>\n",
       "      <td>7.338220e+09</td>\n",
       "      <td>6.500000e+05</td>\n",
       "      <td>4.000000</td>\n",
       "      <td>2.500000</td>\n",
       "      <td>2550.000000</td>\n",
       "      <td>1.076000e+04</td>\n",
       "      <td>2.000000</td>\n",
       "      <td>0.000000</td>\n",
       "      <td>0.000000</td>\n",
       "      <td>4.000000</td>\n",
       "      <td>8.000000</td>\n",
       "      <td>2230.000000</td>\n",
       "      <td>560.000000</td>\n",
       "      <td>1996.000000</td>\n",
       "      <td>0.000000</td>\n",
       "      <td>98118.000000</td>\n",
       "      <td>47.679500</td>\n",
       "      <td>-122.125000</td>\n",
       "      <td>2370.000000</td>\n",
       "      <td>10159.000000</td>\n",
       "      <td>16.000000</td>\n",
       "      <td>10.000000</td>\n",
       "      <td>7.843849</td>\n",
       "      <td>-74.528100</td>\n",
       "    </tr>\n",
       "    <tr>\n",
       "      <th>max</th>\n",
       "      <td>9.895000e+09</td>\n",
       "      <td>6.885000e+06</td>\n",
       "      <td>33.000000</td>\n",
       "      <td>7.750000</td>\n",
       "      <td>9890.000000</td>\n",
       "      <td>1.024068e+06</td>\n",
       "      <td>3.500000</td>\n",
       "      <td>1.000000</td>\n",
       "      <td>4.000000</td>\n",
       "      <td>5.000000</td>\n",
       "      <td>13.000000</td>\n",
       "      <td>8860.000000</td>\n",
       "      <td>2610.000000</td>\n",
       "      <td>2015.000000</td>\n",
       "      <td>2015.000000</td>\n",
       "      <td>98199.000000</td>\n",
       "      <td>47.777600</td>\n",
       "      <td>-121.315000</td>\n",
       "      <td>5030.000000</td>\n",
       "      <td>858132.000000</td>\n",
       "      <td>1089.000000</td>\n",
       "      <td>57.750000</td>\n",
       "      <td>9.199279</td>\n",
       "      <td>-73.602000</td>\n",
       "    </tr>\n",
       "  </tbody>\n",
       "</table>\n",
       "</div>"
      ],
      "text/plain": [
       "                 id         price     bedrooms    bathrooms  sqft_living  \\\n",
       "count  4.229000e+03  4.229000e+03  4229.000000  4229.000000  4229.000000   \n",
       "mean   4.604771e+09  5.430540e+05     3.376921     2.113561  2079.366280   \n",
       "std    2.894017e+09  3.564212e+05     1.021434     0.763560   905.317454   \n",
       "min    1.000102e+06  8.500000e+04     0.000000     0.000000   370.000000   \n",
       "25%    2.110900e+09  3.250000e+05     3.000000     1.750000  1430.000000   \n",
       "50%    4.019301e+09  4.530000e+05     3.000000     2.250000  1920.000000   \n",
       "75%    7.338220e+09  6.500000e+05     4.000000     2.500000  2550.000000   \n",
       "max    9.895000e+09  6.885000e+06    33.000000     7.750000  9890.000000   \n",
       "\n",
       "           sqft_lot       floors   waterfront         view    condition  \\\n",
       "count  4.229000e+03  4229.000000  4229.000000  4229.000000  4229.000000   \n",
       "mean   1.516886e+04     1.494561     0.007094     0.227004     3.403878   \n",
       "std    4.126563e+04     0.542292     0.083936     0.759375     0.654686   \n",
       "min    6.000000e+02     1.000000     0.000000     0.000000     1.000000   \n",
       "25%    5.027000e+03     1.000000     0.000000     0.000000     3.000000   \n",
       "50%    7.633000e+03     1.500000     0.000000     0.000000     3.000000   \n",
       "75%    1.076000e+04     2.000000     0.000000     0.000000     4.000000   \n",
       "max    1.024068e+06     3.500000     1.000000     4.000000     5.000000   \n",
       "\n",
       "             grade   sqft_above  sqft_basement     yr_built  yr_renovated  \\\n",
       "count  4229.000000  4229.000000    4229.000000  4229.000000   4229.000000   \n",
       "mean      7.664460  1790.635848     288.730433  1970.398439     89.722629   \n",
       "std       1.198476   832.215530     435.016314    29.552143    413.736867   \n",
       "min       4.000000   370.000000       0.000000  1900.000000      0.000000   \n",
       "25%       7.000000  1180.000000       0.000000  1951.000000      0.000000   \n",
       "50%       7.000000  1570.000000       0.000000  1974.000000      0.000000   \n",
       "75%       8.000000  2230.000000     560.000000  1996.000000      0.000000   \n",
       "max      13.000000  8860.000000    2610.000000  2015.000000   2015.000000   \n",
       "\n",
       "            zipcode          lat         long  sqft_living15     sqft_lot15  \\\n",
       "count   4229.000000  4229.000000  4229.000000    4229.000000    4229.000000   \n",
       "mean   98077.951762    47.563092  -122.216426    1988.844171   12735.877749   \n",
       "std       53.426623     0.137965     0.140497     680.837632   27829.200218   \n",
       "min    98001.000000    47.155900  -122.514000     700.000000     660.000000   \n",
       "25%    98032.000000    47.476600  -122.330000    1490.000000    5105.000000   \n",
       "50%    98065.000000    47.573400  -122.239000    1840.000000    7611.000000   \n",
       "75%    98118.000000    47.679500  -122.125000    2370.000000   10159.000000   \n",
       "max    98199.000000    47.777600  -121.315000    5030.000000  858132.000000   \n",
       "\n",
       "       bedrooms_squared  bed_bath_rooms  log_sqft_living  lat_plus_long  \n",
       "count       4229.000000     4229.000000      4229.000000    4229.000000  \n",
       "mean          12.446678        7.503902         7.550275     -74.653334  \n",
       "std           17.868973        4.227032         0.426554       0.182162  \n",
       "min            0.000000        0.000000         5.913503     -75.177200  \n",
       "25%            9.000000        4.500000         7.265430     -74.767200  \n",
       "50%            9.000000        7.000000         7.560080     -74.667100  \n",
       "75%           16.000000       10.000000         7.843849     -74.528100  \n",
       "max         1089.000000       57.750000         9.199279     -73.602000  "
      ]
     },
     "execution_count": 7,
     "metadata": {},
     "output_type": "execute_result"
    }
   ],
   "source": [
    "test.describe()"
   ]
  },
  {
   "cell_type": "markdown",
   "metadata": {
    "collapsed": true
   },
   "source": [
    "## Linear Regression - Gradient Descent"
   ]
  },
  {
   "cell_type": "code",
   "execution_count": 8,
   "metadata": {
    "collapsed": false
   },
   "outputs": [],
   "source": [
    "def predict_outcome(features_matrix,weights): \n",
    "    # features nXm\n",
    "    # weights 1Xn\n",
    "    # intercept 1\n",
    "    n,_=features_matrix.shape\n",
    "    assert weights.shape==(1,n)\n",
    "    predictions=np.matmul(weights,features_matrix)\n",
    "    return predictions"
   ]
  },
  {
   "cell_type": "code",
   "execution_count": 9,
   "metadata": {
    "collapsed": true
   },
   "outputs": [],
   "source": [
    "def feature_derivative(errors, feature):\n",
    "    # features nXm\n",
    "    # errors 1Xm\n",
    "    assert errors.shape[1]==feature.shape[1]\n",
    "    return np.matmul(errors,feature.T)"
   ]
  },
  {
   "cell_type": "code",
   "execution_count": 10,
   "metadata": {
    "collapsed": false
   },
   "outputs": [],
   "source": [
    "def regression_gradient_descent(feature_matrix, output, initial_weights, step_size, tolerance):\n",
    "    # features_matrix nXm\n",
    "    # output 1Xm\n",
    "    n,m=feature_matrix.shape\n",
    "    assert output.shape==(1,m)\n",
    "    assert initial_weights.shape==(1,n)\n",
    "    \n",
    "    weights=np.array(initial_weights)\n",
    "    for i in range(1000000):\n",
    "        pred=predict_outcome(feature_matrix,weights)\n",
    "        errors=output-pred\n",
    "        MSS=sum(errors[0]**2)\n",
    "        \n",
    "        w_der=feature_derivative(errors,feature_matrix)\n",
    "        weights+=step_size*w_der\n",
    "        \n",
    "        gradient_magnitude=np.sqrt(np.matmul(w_der[0].T,w_der[0]))\n",
    "\n",
    "        if gradient_magnitude<tolerance:\n",
    "            print \"Stop at step {}\".format(i)\n",
    "            break\n",
    "    return weights"
   ]
  },
  {
   "cell_type": "code",
   "execution_count": 11,
   "metadata": {
    "collapsed": true
   },
   "outputs": [],
   "source": [
    "# this was taken from Machine Learning MOOC by Andrew ng.\n",
    "def closedForm(X,y):\n",
    "    # you should catch np.linalg.LinAlgError Exception\n",
    "    # X: nXm\n",
    "    # y: 1Xm\n",
    "    n,m=X.shape\n",
    "    assert y.shape==(1,m)\n",
    "    beta=np.matmul(np.matmul(np.linalg.inv(np.matmul(X,X.T)),X),y.T)\n",
    "    return beta"
   ]
  },
  {
   "cell_type": "code",
   "execution_count": 12,
   "metadata": {
    "collapsed": true
   },
   "outputs": [],
   "source": [
    "def getData(data,features_names,target_name):\n",
    "    features_matrix, output = train[features_names],train[target_name]\n",
    "    output=output.reshape(1,output.shape[0])\n",
    "    \n",
    "    extra_column=np.ones((features_matrix.shape[0],1))\n",
    "    features_matrix=np.concatenate([extra_column,features_matrix],axis=1)\n",
    "    features_matrix=features_matrix.T\n",
    "\n",
    "    n,m=features_matrix.shape\n",
    "    assert output.shape==(1,m)\n",
    "    return features_matrix,output"
   ]
  },
  {
   "cell_type": "code",
   "execution_count": 13,
   "metadata": {
    "collapsed": true
   },
   "outputs": [],
   "source": [
    "def meansquarederror(predictions,output):\n",
    "    vec=predictions-output\n",
    "    return  np.dot(vec,vec.T)/len(vec)"
   ]
  },
  {
   "cell_type": "markdown",
   "metadata": {},
   "source": [
    "## using one feature"
   ]
  },
  {
   "cell_type": "code",
   "execution_count": 14,
   "metadata": {
    "collapsed": false
   },
   "outputs": [],
   "source": [
    "simple_features = ['sqft_living']\n",
    "target_name= 'price'\n",
    "\n",
    "initial_weights = np.array([[-47000.,1.]])\n",
    "\n",
    "simple_feature_matrix, output = getData(train,simple_features,target_name)\n",
    "step_size = 7e-12\n",
    "tolerance = 2.5e7"
   ]
  },
  {
   "cell_type": "markdown",
   "metadata": {},
   "source": [
    "#### Compare output parameter values between closedForm solution and gradient descent"
   ]
  },
  {
   "cell_type": "code",
   "execution_count": 15,
   "metadata": {
    "collapsed": false
   },
   "outputs": [
    {
     "name": "stdout",
     "output_type": "stream",
     "text": [
      "Stop at step 14\n",
      "[[-46999.88714469    281.91205132]]\n"
     ]
    }
   ],
   "source": [
    "m1_weights = regression_gradient_descent(simple_feature_matrix, output,initial_weights, step_size,                                             \n",
    "                                             tolerance)\n",
    "print m1_weights"
   ]
  },
  {
   "cell_type": "code",
   "execution_count": 16,
   "metadata": {
    "collapsed": false
   },
   "outputs": [
    {
     "name": "stdout",
     "output_type": "stream",
     "text": [
      "Using close form, weights are [[-47116.07907289]\n",
      " [   281.95883963]]\n"
     ]
    }
   ],
   "source": [
    "m1_weights_CF=closedForm(simple_feature_matrix,output)\n",
    "print \"Using close form, weights are {}\".format(m1_weights_CF)"
   ]
  },
  {
   "cell_type": "markdown",
   "metadata": {},
   "source": [
    "#### predictions using one feature"
   ]
  },
  {
   "cell_type": "code",
   "execution_count": 17,
   "metadata": {
    "collapsed": true
   },
   "outputs": [],
   "source": [
    "test_simple_feature_matrix, test_output = getData(test,simple_features,target_name)"
   ]
  },
  {
   "cell_type": "code",
   "execution_count": 18,
   "metadata": {
    "collapsed": false
   },
   "outputs": [],
   "source": [
    "predicted_output=predict_outcome(test_simple_feature_matrix,m1_weights)"
   ]
  },
  {
   "cell_type": "code",
   "execution_count": 19,
   "metadata": {
    "collapsed": false
   },
   "outputs": [
    {
     "name": "stdout",
     "output_type": "stream",
     "text": [
      "MSE= [[1.20191839e+15]]\n"
     ]
    }
   ],
   "source": [
    "mse1=meansquarederror(test_output,predicted_output)\n",
    "print \"MSE=\",mse1"
   ]
  },
  {
   "cell_type": "markdown",
   "metadata": {},
   "source": [
    "## using two features"
   ]
  },
  {
   "cell_type": "code",
   "execution_count": 20,
   "metadata": {
    "collapsed": true
   },
   "outputs": [],
   "source": [
    "model_features = ['sqft_living', 'sqft_living15'] # sqft_living15 is the average squarefeet for the nearest 15 neighbors. \n",
    "target_name = 'price'\n",
    "(feature_matrix, output)  = getData(train,model_features,target_name)\n",
    "initial_weights = np.array([[-100000., 1., 1.]])\n",
    "step_size = 4e-12\n",
    "tolerance = 1e9"
   ]
  },
  {
   "cell_type": "markdown",
   "metadata": {},
   "source": [
    "#### Compare output parameter values between closedForm solution and gradient descent"
   ]
  },
  {
   "cell_type": "code",
   "execution_count": 21,
   "metadata": {
    "collapsed": false
   },
   "outputs": [
    {
     "name": "stdout",
     "output_type": "stream",
     "text": [
      "Stop at step 492\n",
      "[[-9.99999687e+04  2.44960782e+02  6.54009515e+01]]\n"
     ]
    }
   ],
   "source": [
    "m2_weights = regression_gradient_descent(feature_matrix, output,initial_weights, step_size,                                             \n",
    "                                             tolerance)\n",
    "print m2_weights"
   ]
  },
  {
   "cell_type": "code",
   "execution_count": 22,
   "metadata": {
    "collapsed": false
   },
   "outputs": [
    {
     "name": "stdout",
     "output_type": "stream",
     "text": [
      "[[-1.00262175e+05]\n",
      " [ 2.45188714e+02]\n",
      " [ 6.52715852e+01]]\n"
     ]
    }
   ],
   "source": [
    "m2_weights_CF=closedForm(feature_matrix,output)\n",
    "print m2_weights_CF"
   ]
  },
  {
   "cell_type": "markdown",
   "metadata": {},
   "source": [
    "#### predictions using two feature"
   ]
  },
  {
   "cell_type": "code",
   "execution_count": 23,
   "metadata": {
    "collapsed": true
   },
   "outputs": [],
   "source": [
    "test_feature_matrix, test_output = getData(test,model_features,target_name)"
   ]
  },
  {
   "cell_type": "code",
   "execution_count": 24,
   "metadata": {
    "collapsed": false
   },
   "outputs": [],
   "source": [
    "predicted_output=predict_outcome(test_feature_matrix,m2_weights)"
   ]
  },
  {
   "cell_type": "code",
   "execution_count": 25,
   "metadata": {
    "collapsed": false
   },
   "outputs": [
    {
     "name": "stdout",
     "output_type": "stream",
     "text": [
      "MSE= [[1.18697834e+15]]\n"
     ]
    }
   ],
   "source": [
    "mse1=meansquarederror(test_output,predicted_output)\n",
    "print \"MSE=\",mse1"
   ]
  }
 ],
 "metadata": {
  "kernelspec": {
   "display_name": "Python 2",
   "language": "python",
   "name": "python2"
  },
  "language_info": {
   "codemirror_mode": {
    "name": "ipython",
    "version": 2
   },
   "file_extension": ".py",
   "mimetype": "text/x-python",
   "name": "python",
   "nbconvert_exporter": "python",
   "pygments_lexer": "ipython2",
   "version": "2.7.11"
  }
 },
 "nbformat": 4,
 "nbformat_minor": 0
}
